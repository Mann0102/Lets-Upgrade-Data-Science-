{
 "cells": [
  {
   "cell_type": "markdown",
   "metadata": {},
   "source": [
    "# Assignment 2"
   ]
  },
  {
   "cell_type": "raw",
   "metadata": {},
   "source": [
    "Questions 1:"
   ]
  },
  {
   "cell_type": "code",
   "execution_count": 2,
   "metadata": {},
   "outputs": [
    {
     "name": "stdout",
     "output_type": "stream",
     "text": [
      "2 1 5 9 8 7 4 6 3 12\n",
      "New List with Even Numbers : [2, 8, 4, 6, 12]\n"
     ]
    }
   ],
   "source": [
    "# By using Lambda function :\n",
    "\n",
    "l = list(map(int, input().rstrip().split()))\n",
    "\n",
    "Num = list(filter(lambda x: (x % 2 == 0), l)) \n",
    "  \n",
    "print(\"New List with Even Numbers :\", Num)  "
   ]
  },
  {
   "cell_type": "code",
   "execution_count": 7,
   "metadata": {},
   "outputs": [
    {
     "name": "stdout",
     "output_type": "stream",
     "text": [
      "[0, 2, 4, 6, 8]\n"
     ]
    }
   ],
   "source": [
    "# Example 2 using  List Comprehension :\n",
    "\n",
    "num = [ x for x in range(10) if x % 2 == 0]\n",
    "print(num)"
   ]
  },
  {
   "cell_type": "raw",
   "metadata": {},
   "source": [
    "Questions 2:"
   ]
  },
  {
   "cell_type": "markdown",
   "metadata": {},
   "source": [
    "# LIST COMPREHENSION:"
   ]
  },
  {
   "cell_type": "raw",
   "metadata": {},
   "source": [
    "- List Comprehensions provide an elegant way to create new lists.\n",
    "\n",
    "Syntax : \n",
    "    output_list = [output_exp for var in input_list if (var satisfies this condition)]"
   ]
  },
  {
   "cell_type": "code",
   "execution_count": 8,
   "metadata": {},
   "outputs": [
    {
     "name": "stdout",
     "output_type": "stream",
     "text": [
      "2 1 5 9 8 7 4 6 3 12\n",
      "Output List : [2, 8, 4, 6, 12]\n"
     ]
    }
   ],
   "source": [
    "# Constructing output list WITHOUT Using List comprehensions \n",
    "ip = list(map(int, input().rstrip().split()))\n",
    "  \n",
    "op = [] \n",
    "  \n",
    "for var in ip: \n",
    "    if var % 2 == 0: \n",
    "        op.append(var) \n",
    "print(\"Output List :\", op) "
   ]
  },
  {
   "cell_type": "code",
   "execution_count": 9,
   "metadata": {},
   "outputs": [
    {
     "name": "stdout",
     "output_type": "stream",
     "text": [
      "2 1 5 9 8 7 4 6 3 12\n",
      "Output List : [2, 8, 4, 6, 12]\n"
     ]
    }
   ],
   "source": [
    "# Using List comprehensions for constructing output list \n",
    "  \n",
    "ip = list(map(int, input().rstrip().split()))\n",
    "  \n",
    "li = [var for var in ip if var % 2 == 0] \n",
    "  \n",
    "print(\"Output List :\", li) "
   ]
  },
  {
   "cell_type": "raw",
   "metadata": {},
   "source": [
    "Questions 3:"
   ]
  },
  {
   "cell_type": "code",
   "execution_count": 1,
   "metadata": {},
   "outputs": [
    {
     "name": "stdout",
     "output_type": "stream",
     "text": [
      "5\n",
      "{1: 1, 2: 4, 3: 9, 4: 16, 5: 25}\n"
     ]
    }
   ],
   "source": [
    "# Example 1:\n",
    "\n",
    "n = int(input())\n",
    "\n",
    "d = {x:x*x for x in range(1,n+1)}\n",
    "\n",
    "print(d)"
   ]
  },
  {
   "cell_type": "code",
   "execution_count": 2,
   "metadata": {},
   "outputs": [
    {
     "name": "stdout",
     "output_type": "stream",
     "text": [
      "5\n",
      "{1: 1, 2: 4, 3: 9, 4: 16, 5: 25}\n"
     ]
    }
   ],
   "source": [
    "# Example 2:\n",
    "\n",
    "n = int(input())\n",
    "d = dict()\n",
    "\n",
    "for x in range(1,n+1):\n",
    "    d[x]=x*x\n",
    "\n",
    "print(d) "
   ]
  },
  {
   "cell_type": "raw",
   "metadata": {},
   "source": [
    "Questions 4:"
   ]
  },
  {
   "cell_type": "code",
   "execution_count": 1,
   "metadata": {},
   "outputs": [
    {
     "name": "stdout",
     "output_type": "stream",
     "text": [
      "4\n",
      "UP 5\n",
      "DOWN 3\n",
      "LEFT 2\n",
      "RIGHT 2\n",
      "2\n"
     ]
    }
   ],
   "source": [
    "pos = {\"x\":0,\"y\":0}\n",
    "num = int(input())\n",
    "\n",
    "for n in range (num):\n",
    "    command =  input().split(\" \")      \n",
    "    if command[0] == \"UP\":             \n",
    "        pos[\"y\"] += int(command[1]) \n",
    "    if command[0] == \"DOWN\":\n",
    "        pos[\"y\"] -= int(command[1])\n",
    "    if command[0] == \"LEFT\":\n",
    "        pos[\"x\"] -= int(command[1])\n",
    "    if command[0] == \"RIGHT\":\n",
    "        pos[\"x\"] += int(command[1])\n",
    "\n",
    "print(int(round((pos[\"x\"]**2 + pos[\"y\"]**2)**0.5)))  "
   ]
  },
  {
   "cell_type": "code",
   "execution_count": null,
   "metadata": {},
   "outputs": [],
   "source": []
  }
 ],
 "metadata": {
  "kernelspec": {
   "display_name": "Python 3",
   "language": "python",
   "name": "python3"
  },
  "language_info": {
   "codemirror_mode": {
    "name": "ipython",
    "version": 3
   },
   "file_extension": ".py",
   "mimetype": "text/x-python",
   "name": "python",
   "nbconvert_exporter": "python",
   "pygments_lexer": "ipython3",
   "version": "3.7.6"
  }
 },
 "nbformat": 4,
 "nbformat_minor": 4
}
